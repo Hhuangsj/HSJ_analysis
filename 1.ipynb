{
 "cells": [
  {
   "cell_type": "code",
   "execution_count": 2,
   "metadata": {},
   "outputs": [
    {
     "name": "stdout",
     "output_type": "stream",
     "text": [
      "Reordered PDB file saved to 5awl_reorder.pdb\n"
     ]
    }
   ],
   "source": [
    "def read_pdb_atoms(pdb_file):\n",
    "    \"\"\"\n",
    "    读取PDB文件中的原子记录，并返回一个列表，包含原子名称、残基名称、残基编号、链标识以及完整的行内容。\n",
    "    \"\"\"\n",
    "    atoms = []\n",
    "    try:\n",
    "        with open(pdb_file, 'r') as file:\n",
    "            for line in file:\n",
    "                if line.startswith(\"ATOM\"):\n",
    "                    atom_name = line[12:16].strip()\n",
    "                    residue_name = line[17:20].strip()\n",
    "                    residue_number = int(line[22:26].strip())\n",
    "                    chain_id = line[21].strip()\n",
    "                    atoms.append((atom_name, residue_name, residue_number, chain_id, line))\n",
    "    except FileNotFoundError:\n",
    "        print(f\"Error: The file '{pdb_file}' does not exist.\")\n",
    "        return []\n",
    "    except Exception as e:\n",
    "        print(f\"An error occurred while reading the file: {e}\")\n",
    "        return []\n",
    "    return atoms\n",
    "\n",
    "def reorder_pdb(source_pdb, target_pdb, output_pdb):\n",
    "    \"\"\"\n",
    "    根据目标PDB文件的原子顺序重新排列源PDB文件的原子记录。\n",
    "    \"\"\"\n",
    "    # 读取源PDB文件和目标PDB文件的原子信息\n",
    "    source_atoms = read_pdb_atoms(source_pdb)\n",
    "    target_atoms = read_pdb_atoms(target_pdb)\n",
    "    \n",
    "    if not source_atoms or not target_atoms:\n",
    "        print(\"Error: One or both PDB files contain no ATOM records.\")\n",
    "        return\n",
    "    \n",
    "    # 创建一个映射，用于快速查找源PDB文件中的原子行\n",
    "    source_atom_map = {(atom[0], atom[1], atom[2], atom[3]): atom[4] for atom in source_atoms}\n",
    "    \n",
    "    # 读取源PDB文件的全部内容\n",
    "    try:\n",
    "        with open(source_pdb, 'r') as file:\n",
    "            source_lines = file.readlines()\n",
    "    except Exception as e:\n",
    "        print(f\"An error occurred while reading the source PDB file: {e}\")\n",
    "        return\n",
    "    \n",
    "    # 创建一个新的PDB文件内容\n",
    "    new_pdb_lines = []\n",
    "    for target_atom in target_atoms:\n",
    "        if target_atom[:4] in source_atom_map:\n",
    "            # 如果目标原子在源文件中存在，则直接添加对应的整行内容\n",
    "            new_pdb_lines.append(source_atom_map[target_atom[:4]])\n",
    "        else:\n",
    "            print(f\"Warning: Atom {target_atom} not found in source PDB file.\")\n",
    "    \n",
    "    # 将新的PDB内容写入输出文件\n",
    "    try:\n",
    "        with open(output_pdb, 'w') as file:\n",
    "            file.writelines(new_pdb_lines)\n",
    "        print(f\"Reordered PDB file saved to {output_pdb}\")\n",
    "    except Exception as e:\n",
    "        print(f\"An error occurred while writing the output PDB file: {e}\")\n",
    "\n",
    "# 示例调用\n",
    "if __name__ == \"__main__\":\n",
    "    source_pdb = \"5awl_reH.pdb\"  # 源PDB文件路径\n",
    "    target_pdb = \"chig.pdb\"  # 模板PDB文件路径\n",
    "    output_pdb = \"5awl_reorder.pdb\"  # 输出PDB文件路径\n",
    "    reorder_pdb(source_pdb, target_pdb, output_pdb)"
   ]
  },
  {
   "cell_type": "markdown",
   "metadata": {},
   "source": []
  },
  {
   "cell_type": "code",
   "execution_count": null,
   "metadata": {},
   "outputs": [],
   "source": []
  }
 ],
 "metadata": {
  "kernelspec": {
   "display_name": "AmberTools23",
   "language": "python",
   "name": "python3"
  },
  "language_info": {
   "codemirror_mode": {
    "name": "ipython",
    "version": 3
   },
   "file_extension": ".py",
   "mimetype": "text/x-python",
   "name": "python",
   "nbconvert_exporter": "python",
   "pygments_lexer": "ipython3",
   "version": "3.12.8"
  }
 },
 "nbformat": 4,
 "nbformat_minor": 2
}
